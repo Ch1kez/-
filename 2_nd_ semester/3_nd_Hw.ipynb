{
  "nbformat": 4,
  "nbformat_minor": 0,
  "metadata": {
    "colab": {
      "provenance": []
    },
    "kernelspec": {
      "name": "python3",
      "display_name": "Python 3"
    },
    "language_info": {
      "name": "python"
    }
  },
  "cells": [
    {
      "cell_type": "code",
      "execution_count": 19,
      "metadata": {
        "id": "1WbvtGt-O3g0"
      },
      "outputs": [],
      "source": []
    },
    {
      "cell_type": "markdown",
      "source": [
        "# **ДЗ-3**"
      ],
      "metadata": {
        "id": "RnpPbSLdPG24"
      }
    },
    {
      "cell_type": "markdown",
      "source": [
        "### **1.** Напишите декоратор, реализующий проверку по заданному правилу входных аргументов функции ( @pre ). При невыполнении условий прерывайте выполнение с выдачей заранее заданного сообщения. Декоратор должен принимать в качестве аргументов правило и сообщение."
      ],
      "metadata": {
        "id": "uk4pH8VKPWyj"
      }
    },
    {
      "cell_type": "code",
      "source": [
        "def pre(rule, message):\n",
        "    def decorator(func):\n",
        "        def wrapper(*args, **kwargs):\n",
        "            if rule(*args, **kwargs):\n",
        "                return func(*args, **kwargs)\n",
        "            else:\n",
        "                raise ValueError(message)\n",
        "        return wrapper\n",
        "    return decorator"
      ],
      "metadata": {
        "id": "Crd4MAvZPWD9"
      },
      "execution_count": 20,
      "outputs": []
    },
    {
      "cell_type": "code",
      "source": [
        "@pre(lambda x, y: y != 0, \"Деление на ноль недопустимо\")\n",
        "def divide(x, y):\n",
        "    return x / y"
      ],
      "metadata": {
        "id": "kZX7sPGIPWGc"
      },
      "execution_count": 21,
      "outputs": []
    },
    {
      "cell_type": "code",
      "source": [
        "divide(5, 2)"
      ],
      "metadata": {
        "colab": {
          "base_uri": "https://localhost:8080/"
        },
        "id": "fjzOlhaVPWIz",
        "outputId": "d3f82446-2c90-4b05-964d-bc34a1cd81d8"
      },
      "execution_count": 22,
      "outputs": [
        {
          "output_type": "execute_result",
          "data": {
            "text/plain": [
              "2.5"
            ]
          },
          "metadata": {},
          "execution_count": 22
        }
      ]
    },
    {
      "cell_type": "code",
      "source": [
        "divide(5, 0)"
      ],
      "metadata": {
        "id": "OoGO18QEPWMr",
        "colab": {
          "base_uri": "https://localhost:8080/",
          "height": 297
        },
        "outputId": "0bfd0bc5-181e-4539-e0b5-b28491161e8c"
      },
      "execution_count": 28,
      "outputs": [
        {
          "output_type": "error",
          "ename": "ValueError",
          "evalue": "ignored",
          "traceback": [
            "\u001b[0;31m---------------------------------------------------------------------------\u001b[0m",
            "\u001b[0;31mValueError\u001b[0m                                Traceback (most recent call last)",
            "\u001b[0;32m<ipython-input-28-41880823ce33>\u001b[0m in \u001b[0;36m<cell line: 1>\u001b[0;34m()\u001b[0m\n\u001b[0;32m----> 1\u001b[0;31m \u001b[0mdivide\u001b[0m\u001b[0;34m(\u001b[0m\u001b[0;36m5\u001b[0m\u001b[0;34m,\u001b[0m \u001b[0;36m0\u001b[0m\u001b[0;34m)\u001b[0m\u001b[0;34m\u001b[0m\u001b[0;34m\u001b[0m\u001b[0m\n\u001b[0m",
            "\u001b[0;32m<ipython-input-20-1c5b2757b9f2>\u001b[0m in \u001b[0;36mwrapper\u001b[0;34m(*args, **kwargs)\u001b[0m\n\u001b[1;32m      5\u001b[0m                 \u001b[0;32mreturn\u001b[0m \u001b[0mfunc\u001b[0m\u001b[0;34m(\u001b[0m\u001b[0;34m*\u001b[0m\u001b[0margs\u001b[0m\u001b[0;34m,\u001b[0m \u001b[0;34m**\u001b[0m\u001b[0mkwargs\u001b[0m\u001b[0;34m)\u001b[0m\u001b[0;34m\u001b[0m\u001b[0;34m\u001b[0m\u001b[0m\n\u001b[1;32m      6\u001b[0m             \u001b[0;32melse\u001b[0m\u001b[0;34m:\u001b[0m\u001b[0;34m\u001b[0m\u001b[0;34m\u001b[0m\u001b[0m\n\u001b[0;32m----> 7\u001b[0;31m                 \u001b[0;32mraise\u001b[0m \u001b[0mValueError\u001b[0m\u001b[0;34m(\u001b[0m\u001b[0mmessage\u001b[0m\u001b[0;34m)\u001b[0m\u001b[0;34m\u001b[0m\u001b[0;34m\u001b[0m\u001b[0m\n\u001b[0m\u001b[1;32m      8\u001b[0m         \u001b[0;32mreturn\u001b[0m \u001b[0mwrapper\u001b[0m\u001b[0;34m\u001b[0m\u001b[0;34m\u001b[0m\u001b[0m\n\u001b[1;32m      9\u001b[0m     \u001b[0;32mreturn\u001b[0m \u001b[0mdecorator\u001b[0m\u001b[0;34m\u001b[0m\u001b[0;34m\u001b[0m\u001b[0m\n",
            "\u001b[0;31mValueError\u001b[0m: Деление на ноль недопустимо"
          ]
        }
      ]
    },
    {
      "cell_type": "markdown",
      "source": [
        "### **2.** Напишите декоратор, реализующий проверку по заданному правилу выходных аргументов функции ( @post ) . Все остальное - как в примере выше."
      ],
      "metadata": {
        "id": "Qt4lxb4F5Efp"
      }
    },
    {
      "cell_type": "code",
      "source": [
        "def post(rule, message):\n",
        "    def decorator(func):\n",
        "        def wrapper(*args, **kwargs):\n",
        "            res = func(*args, **kwargs)\n",
        "            if not rule(res):\n",
        "                raise ValueError(message)\n",
        "            return res\n",
        "        return wrapper\n",
        "    return decorator\n",
        ""
      ],
      "metadata": {
        "id": "ibxkgmpI5E1j"
      },
      "execution_count": 29,
      "outputs": []
    },
    {
      "cell_type": "code",
      "source": [
        "@post(lambda result: result > 0, \"Результат меньше нуля\")\n",
        "def divide(x, y):\n",
        "    if y != 0:\n",
        "        # print(x / y)\n",
        "        return x / y"
      ],
      "metadata": {
        "id": "m2ZFhsd-5FHJ"
      },
      "execution_count": 30,
      "outputs": []
    },
    {
      "cell_type": "code",
      "source": [
        "divide(5, 2)"
      ],
      "metadata": {
        "colab": {
          "base_uri": "https://localhost:8080/"
        },
        "id": "Lsa0om385FKM",
        "outputId": "a032a26f-3b4a-44b1-b08b-f1777cc7776f"
      },
      "execution_count": 31,
      "outputs": [
        {
          "output_type": "execute_result",
          "data": {
            "text/plain": [
              "2.5"
            ]
          },
          "metadata": {},
          "execution_count": 31
        }
      ]
    },
    {
      "cell_type": "code",
      "source": [
        "divide(-5, 2)"
      ],
      "metadata": {
        "colab": {
          "base_uri": "https://localhost:8080/",
          "height": 297
        },
        "id": "GUt4lw_DTTuc",
        "outputId": "78633f21-3e8e-494c-c6ba-13f9d20ceace"
      },
      "execution_count": 32,
      "outputs": [
        {
          "output_type": "error",
          "ename": "ValueError",
          "evalue": "ignored",
          "traceback": [
            "\u001b[0;31m---------------------------------------------------------------------------\u001b[0m",
            "\u001b[0;31mValueError\u001b[0m                                Traceback (most recent call last)",
            "\u001b[0;32m<ipython-input-32-01e04c813a78>\u001b[0m in \u001b[0;36m<cell line: 1>\u001b[0;34m()\u001b[0m\n\u001b[0;32m----> 1\u001b[0;31m \u001b[0mdivide\u001b[0m\u001b[0;34m(\u001b[0m\u001b[0;34m-\u001b[0m\u001b[0;36m5\u001b[0m\u001b[0;34m,\u001b[0m \u001b[0;36m2\u001b[0m\u001b[0;34m)\u001b[0m\u001b[0;34m\u001b[0m\u001b[0;34m\u001b[0m\u001b[0m\n\u001b[0m",
            "\u001b[0;32m<ipython-input-29-f8eb376bd797>\u001b[0m in \u001b[0;36mwrapper\u001b[0;34m(*args, **kwargs)\u001b[0m\n\u001b[1;32m      4\u001b[0m             \u001b[0mres\u001b[0m \u001b[0;34m=\u001b[0m \u001b[0mfunc\u001b[0m\u001b[0;34m(\u001b[0m\u001b[0;34m*\u001b[0m\u001b[0margs\u001b[0m\u001b[0;34m,\u001b[0m \u001b[0;34m**\u001b[0m\u001b[0mkwargs\u001b[0m\u001b[0;34m)\u001b[0m\u001b[0;34m\u001b[0m\u001b[0;34m\u001b[0m\u001b[0m\n\u001b[1;32m      5\u001b[0m             \u001b[0;32mif\u001b[0m \u001b[0;32mnot\u001b[0m \u001b[0mrule\u001b[0m\u001b[0;34m(\u001b[0m\u001b[0mres\u001b[0m\u001b[0;34m)\u001b[0m\u001b[0;34m:\u001b[0m\u001b[0;34m\u001b[0m\u001b[0;34m\u001b[0m\u001b[0m\n\u001b[0;32m----> 6\u001b[0;31m                 \u001b[0;32mraise\u001b[0m \u001b[0mValueError\u001b[0m\u001b[0;34m(\u001b[0m\u001b[0mmessage\u001b[0m\u001b[0;34m)\u001b[0m\u001b[0;34m\u001b[0m\u001b[0;34m\u001b[0m\u001b[0m\n\u001b[0m\u001b[1;32m      7\u001b[0m             \u001b[0;32mreturn\u001b[0m \u001b[0mres\u001b[0m\u001b[0;34m\u001b[0m\u001b[0;34m\u001b[0m\u001b[0m\n\u001b[1;32m      8\u001b[0m         \u001b[0;32mreturn\u001b[0m \u001b[0mwrapper\u001b[0m\u001b[0;34m\u001b[0m\u001b[0;34m\u001b[0m\u001b[0m\n",
            "\u001b[0;31mValueError\u001b[0m: Результат меньше нуля"
          ]
        }
      ]
    },
    {
      "cell_type": "code",
      "source": [],
      "metadata": {
        "id": "uw0r6azpXXXn"
      },
      "execution_count": 32,
      "outputs": []
    },
    {
      "cell_type": "markdown",
      "source": [
        "### **3.** Напишите настраиваимый декоратор, обеспечивающий мемоизацию (проверьте его на функции Аккермана или на вычислении n-го числа Фибоначчи). Мемоизатор должен хранить не более n значений, (как в очереди -- если пришло n+1 -ое) -- вы забываете 1 -ое. После выполнения функции выдавайте на печать сколько раз функция посчиталась, и сколько раз вы взяли значение из памяти. Аналог тут, можете посмотреть на cache_info() - мне хочется чего-то такого ** (=ơzơ=)**"
      ],
      "metadata": {
        "id": "m5m4ucQ3dJJg"
      }
    },
    {
      "cell_type": "code",
      "source": [],
      "metadata": {
        "id": "eknoQRNTdYmR"
      },
      "execution_count": 32,
      "outputs": []
    },
    {
      "cell_type": "code",
      "source": [],
      "metadata": {
        "id": "-vHgx9lodYpO"
      },
      "execution_count": 32,
      "outputs": []
    },
    {
      "cell_type": "code",
      "source": [],
      "metadata": {
        "id": "UzW12eMSdYzP"
      },
      "execution_count": 32,
      "outputs": []
    },
    {
      "cell_type": "markdown",
      "source": [
        "### **4.** Напишите декоратор определяющий среднее выполнение времени функции по результатам n запусков."
      ],
      "metadata": {
        "id": "vwj4aOuQXYNT"
      }
    },
    {
      "cell_type": "code",
      "source": [
        "import time\n",
        "def average_time(n):\n",
        "    def decorator(func):\n",
        "        def wrapper(*args, **kwargs):\n",
        "            total_time = 0\n",
        "            for tic in range(n):\n",
        "                start_time = time.time()\n",
        "                res = func(*args, **kwargs)\n",
        "                end_time = time.time()\n",
        "                total_time += end_time - start_time\n",
        "            average_operating_time = total_time / n\n",
        "            print(f\"Среднее время выполнения функции {func.__name__} после {n} запусков: {average_operating_time:.6f} секунд\")\n",
        "            return res\n",
        "        return wrapper\n",
        "    return decorator"
      ],
      "metadata": {
        "id": "YlM0QJ0HXXaP"
      },
      "execution_count": 33,
      "outputs": []
    },
    {
      "cell_type": "code",
      "source": [
        "@average_time(n=10)\n",
        "def fibonacci_iterative(n):\n",
        "    if n <= 0:\n",
        "        return 0\n",
        "    elif n == 1:\n",
        "        return 1\n",
        "\n",
        "    fib = [0, 1]\n",
        "    for i in range(2, n + 1):\n",
        "        next_fib = fib[i - 1] + fib[i - 2]\n",
        "        fib.append(next_fib)\n",
        "\n",
        "    return fib[n]"
      ],
      "metadata": {
        "id": "ZjV7VX9FXXcj"
      },
      "execution_count": 34,
      "outputs": []
    },
    {
      "cell_type": "code",
      "source": [
        "fibonacci_iterative(10)"
      ],
      "metadata": {
        "colab": {
          "base_uri": "https://localhost:8080/"
        },
        "id": "CcJmBQiDXXhA",
        "outputId": "754ccf14-3de3-4e86-c577-0b1bf9e48e96"
      },
      "execution_count": 35,
      "outputs": [
        {
          "output_type": "stream",
          "name": "stdout",
          "text": [
            "Среднее время выполнения функции fibonacci_iterative после 10 запусков: 0.000002 секунд\n"
          ]
        },
        {
          "output_type": "execute_result",
          "data": {
            "text/plain": [
              "55"
            ]
          },
          "metadata": {},
          "execution_count": 35
        }
      ]
    },
    {
      "cell_type": "code",
      "source": [],
      "metadata": {
        "id": "e6f9p1tQXXjH"
      },
      "execution_count": 35,
      "outputs": []
    },
    {
      "cell_type": "code",
      "source": [],
      "metadata": {
        "id": "-NFndJ4aXXle"
      },
      "execution_count": 35,
      "outputs": []
    },
    {
      "cell_type": "code",
      "source": [],
      "metadata": {
        "id": "pLKzKRueXXnv"
      },
      "execution_count": 35,
      "outputs": []
    },
    {
      "cell_type": "markdown",
      "source": [],
      "metadata": {
        "id": "kuCxKi2cPF0G"
      }
    }
  ]
}