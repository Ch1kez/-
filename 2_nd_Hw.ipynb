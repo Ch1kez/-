{
  "nbformat": 4,
  "nbformat_minor": 0,
  "metadata": {
    "colab": {
      "provenance": []
    },
    "kernelspec": {
      "name": "python3",
      "display_name": "Python 3"
    },
    "language_info": {
      "name": "python"
    }
  },
  "cells": [
    {
      "cell_type": "markdown",
      "source": [
        "# ***ДЗ-2***"
      ],
      "metadata": {
        "id": "pQNiMRFfatON"
      }
    },
    {
      "cell_type": "markdown",
      "source": [
        "### **1.** Напишите декоратор проверяющий, являются ли все аргументы функции числовыми. Если нет Текст, выделенный полужирным шрифтом -- возбуждается исключение"
      ],
      "metadata": {
        "id": "dvZHZ56Ja8OX"
      }
    },
    {
      "cell_type": "code",
      "source": [
        "def check_arguments_numeric(func):\n",
        "    def wrapper(*args, **kwargs):\n",
        "        for arg in args:\n",
        "            if not isinstance(arg, (int, float)):\n",
        "                raise ValueError(\"Все аргументы должны быть числовыми\")\n",
        "\n",
        "        for arg in kwargs.values():\n",
        "            if not isinstance(arg, (int, float)):\n",
        "                raise ValueError(\"Все аргументы должны быть числовыми\")\n",
        "\n",
        "        return func(*args, **kwargs)\n",
        "\n",
        "    return wrapper\n"
      ],
      "metadata": {
        "id": "uBhGkSRVh3BE"
      },
      "execution_count": 2,
      "outputs": []
    },
    {
      "cell_type": "code",
      "source": [
        "@check_arguments_numeric\n",
        "def add_numbers(a, b):\n",
        "    return a + b"
      ],
      "metadata": {
        "id": "BVNBVgLEh3Rx"
      },
      "execution_count": 3,
      "outputs": []
    },
    {
      "cell_type": "code",
      "source": [
        "result = add_numbers(5, 10)\n",
        "print(result)"
      ],
      "metadata": {
        "id": "9phKUriSh3Uv",
        "colab": {
          "base_uri": "https://localhost:8080/"
        },
        "outputId": "40056666-1e3d-44df-99de-7ae1c608afe6"
      },
      "execution_count": 4,
      "outputs": [
        {
          "output_type": "stream",
          "name": "stdout",
          "text": [
            "15\n"
          ]
        }
      ]
    },
    {
      "cell_type": "markdown",
      "source": [
        "### **2.** Напишите декоратор реализующий шаблон Singleton для классов (Одиночка, Синглтон) Если вы не знаете или не помните что такое синглтон - сначала почитайте)"
      ],
      "metadata": {
        "id": "sWtI1Gypbsgv"
      }
    },
    {
      "cell_type": "code",
      "source": [
        "def singleton(cls):\n",
        "    instances = {}\n",
        "\n",
        "    def get_instance(*args, **kwargs):\n",
        "        if cls not in instances:\n",
        "            instances[cls] = cls(*args, **kwargs)\n",
        "        return instances[cls]\n",
        "\n",
        "    return get_instance"
      ],
      "metadata": {
        "id": "dV9--wISh3Ym"
      },
      "execution_count": 5,
      "outputs": []
    },
    {
      "cell_type": "code",
      "source": [
        "@singleton\n",
        "class MySingletonClass:\n",
        "    def __init__(self, value):\n",
        "        self.value = value"
      ],
      "metadata": {
        "id": "csf5lF4lh3bB"
      },
      "execution_count": 6,
      "outputs": []
    },
    {
      "cell_type": "code",
      "source": [
        "singleton1 = MySingletonClass(1)\n",
        "singleton2 = MySingletonClass(12313)"
      ],
      "metadata": {
        "id": "9Ozrv243h3eR"
      },
      "execution_count": 7,
      "outputs": []
    },
    {
      "cell_type": "code",
      "source": [
        "singleton1 is singleton2"
      ],
      "metadata": {
        "id": "c9BCUFU2h3iw",
        "colab": {
          "base_uri": "https://localhost:8080/"
        },
        "outputId": "65820d10-d63b-4af3-db4f-81d92c83c324"
      },
      "execution_count": 8,
      "outputs": [
        {
          "output_type": "execute_result",
          "data": {
            "text/plain": [
              "True"
            ]
          },
          "metadata": {},
          "execution_count": 8
        }
      ]
    },
    {
      "cell_type": "code",
      "source": [
        "singleton1.value"
      ],
      "metadata": {
        "colab": {
          "base_uri": "https://localhost:8080/"
        },
        "id": "eWJ7l6Up5qyX",
        "outputId": "120a417f-eba0-4bfd-91ec-8e804af72351"
      },
      "execution_count": 9,
      "outputs": [
        {
          "output_type": "execute_result",
          "data": {
            "text/plain": [
              "1"
            ]
          },
          "metadata": {},
          "execution_count": 9
        }
      ]
    },
    {
      "cell_type": "code",
      "source": [
        "singleton2.value"
      ],
      "metadata": {
        "colab": {
          "base_uri": "https://localhost:8080/"
        },
        "id": "UdBFv3xb5q3u",
        "outputId": "3a23e9a2-5c5e-4f08-aa54-f1a79f058038"
      },
      "execution_count": 10,
      "outputs": [
        {
          "output_type": "execute_result",
          "data": {
            "text/plain": [
              "1"
            ]
          },
          "metadata": {},
          "execution_count": 10
        }
      ]
    },
    {
      "cell_type": "markdown",
      "source": [
        "### **3.** Напишите декоратор, обеспечивающий мемоизацию (проверьте его на функции Аккермана или на вычислении n-го числа Фибоначчи)"
      ],
      "metadata": {
        "id": "qeKMDxPj57Fb"
      }
    },
    {
      "cell_type": "code",
      "source": [
        "def memoize(func):\n",
        "    cache = {}\n",
        "\n",
        "    def wrapper(*args):\n",
        "        if args not in cache:\n",
        "            cache[args] = func(*args)\n",
        "        return cache[args]\n",
        "\n",
        "    return wrapper"
      ],
      "metadata": {
        "id": "AAEHpykr5rBb"
      },
      "execution_count": 11,
      "outputs": []
    },
    {
      "cell_type": "code",
      "source": [
        "\n",
        "@memoize\n",
        "def fibonacci(n):\n",
        "    if n <= 1:\n",
        "        return n\n",
        "    else:\n",
        "        return fibonacci(n - 1) + fibonacci(n - 2)"
      ],
      "metadata": {
        "id": "TqvNni5n8WTC"
      },
      "execution_count": 12,
      "outputs": []
    },
    {
      "cell_type": "code",
      "source": [
        "fibonacci(50)\n"
      ],
      "metadata": {
        "colab": {
          "base_uri": "https://localhost:8080/"
        },
        "id": "CJwWbeVm8WV2",
        "outputId": "db824329-977d-4818-e104-5298cb96170e"
      },
      "execution_count": 13,
      "outputs": [
        {
          "output_type": "execute_result",
          "data": {
            "text/plain": [
              "12586269025"
            ]
          },
          "metadata": {},
          "execution_count": 13
        }
      ]
    },
    {
      "cell_type": "code",
      "source": [],
      "metadata": {
        "id": "7Zc6J8lDcqUz"
      },
      "execution_count": null,
      "outputs": []
    }
  ]
}