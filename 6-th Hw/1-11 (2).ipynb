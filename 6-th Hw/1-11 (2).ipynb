{
 "cells": [
  {
   "cell_type": "markdown",
   "id": "55a4c460",
   "metadata": {},
   "source": [
    "# HW_6"
   ]
  },
  {
   "cell_type": "code",
   "execution_count": 4,
   "id": "9a0aa9d1",
   "metadata": {},
   "outputs": [],
   "source": [
    "class DLNode:\n",
    "    def __init__(self, val, prev=None, next=None):\n",
    "        self.val = val\n",
    "        self.next = next\n",
    "        self.prev = prev"
   ]
  },
  {
   "cell_type": "markdown",
   "id": "2236c19d",
   "metadata": {},
   "source": [
    "Формирующие из списка `[a_1,a_2,...a_n]` двусвязанный список с сответствующими значениями"
   ]
  },
  {
   "cell_type": "code",
   "execution_count": 5,
   "id": "f662bedd",
   "metadata": {},
   "outputs": [],
   "source": [
    "def create_doubly_linked_list(numbers: list) -> DLNode:\n",
    "    head = DLNode(numbers[0])\n",
    "    current = head\n",
    "\n",
    "    for num in numbers[1:]:\n",
    "        prev = current\n",
    "        current.next = DLNode(num, prev)\n",
    "        current = current.next\n",
    "\n",
    "    return head"
   ]
  },
  {
   "cell_type": "code",
   "execution_count": 6,
   "id": "63d77ae0",
   "metadata": {},
   "outputs": [
    {
     "name": "stdout",
     "output_type": "stream",
     "text": [
      "[1, 3, 4] <= рассматриваемый список\n"
     ]
    },
    {
     "data": {
      "text/plain": [
       "<__main__.DLNode at 0x2316bb1b6a0>"
      ]
     },
     "execution_count": 6,
     "metadata": {},
     "output_type": "execute_result"
    }
   ],
   "source": [
    "list_ = [1, 3, 4]\n",
    "print(list_, '<= рассматриваемый список')\n",
    "create = create_doubly_linked_list(list_)\n",
    "create"
   ]
  },
  {
   "cell_type": "markdown",
   "id": "7d37b062",
   "metadata": {},
   "source": [
    "Формирующие из двусвязанного списка list c соответстующими значениями `[a_1,a_2,...a_n]`"
   ]
  },
  {
   "cell_type": "code",
   "execution_count": 7,
   "id": "430efc30",
   "metadata": {},
   "outputs": [],
   "source": [
    "def get_values_from_doubly_linked_list(head: DLNode) -> list:\n",
    "    result = []\n",
    "\n",
    "    while head:\n",
    "        result.append(head.val)\n",
    "        head = head.next\n",
    "\n",
    "    return result"
   ]
  },
  {
   "cell_type": "code",
   "execution_count": 8,
   "id": "4a06f7b9",
   "metadata": {},
   "outputs": [
    {
     "name": "stdout",
     "output_type": "stream",
     "text": [
      "[1, 3, 4] <= рассматриваемый список\n"
     ]
    },
    {
     "data": {
      "text/plain": [
       "[1, 3, 4]"
      ]
     },
     "execution_count": 8,
     "metadata": {},
     "output_type": "execute_result"
    }
   ],
   "source": [
    "list_node = create\n",
    "print(list_, '<= рассматриваемый список')\n",
    "get = get_values_from_doubly_linked_list(list_node)\n",
    "get"
   ]
  },
  {
   "cell_type": "markdown",
   "id": "924913b2",
   "metadata": {},
   "source": [
    "Функцию удаляющую нод по порядковому номеру `(возвращает нод)`"
   ]
  },
  {
   "cell_type": "code",
   "execution_count": 9,
   "id": "646a1d92",
   "metadata": {},
   "outputs": [],
   "source": [
    "def remove_node(head: DLNode, nodenum: int) -> DLNode:\n",
    "    count = 1\n",
    "    current = head\n",
    "    if nodenum == 1:\n",
    "        return head.next\n",
    "    while count < nodenum:\n",
    "        print(current.val)\n",
    "        current = current.next\n",
    "        count += 1\n",
    "    \n",
    "    next_ = current.next\n",
    "    current.prev.next = next_\n",
    "    return head"
   ]
  },
  {
   "cell_type": "code",
   "execution_count": 10,
   "id": "2510b8b7",
   "metadata": {},
   "outputs": [
    {
     "name": "stdout",
     "output_type": "stream",
     "text": [
      "[1, 3, 4] <= рассматриваемый список\n"
     ]
    },
    {
     "data": {
      "text/plain": [
       "[3, 4]"
      ]
     },
     "execution_count": 10,
     "metadata": {},
     "output_type": "execute_result"
    }
   ],
   "source": [
    "print(list_, '<= рассматриваемый список')\n",
    "get_values_from_doubly_linked_list(remove_node(create, 1))"
   ]
  },
  {
   "cell_type": "markdown",
   "id": "bb0a4359",
   "metadata": {},
   "source": [
    "Функцию добавляющую нод по порядковому номеру"
   ]
  },
  {
   "cell_type": "code",
   "execution_count": 11,
   "id": "a6559cb8",
   "metadata": {},
   "outputs": [],
   "source": [
    "def add_node(head: DLNode, nodenum: int, nodeval: int) -> DLNode:\n",
    "    count = 1\n",
    "    current = head\n",
    "    add_val = DLNode(nodeval)\n",
    "    if nodenum == 1:\n",
    "        add_val.next = head\n",
    "        head = add_val\n",
    "        return head\n",
    "    while count < nodenum:\n",
    "        print(current.val)\n",
    "        current = current.next\n",
    "        count += 1\n",
    "        if not current.next:\n",
    "            current.next = add_val\n",
    "            return head\n",
    "    add_val.next = current\n",
    "    current.prev.next = add_val\n",
    "    return head"
   ]
  },
  {
   "cell_type": "code",
   "execution_count": 12,
   "id": "87ab6fd2",
   "metadata": {},
   "outputs": [
    {
     "name": "stdout",
     "output_type": "stream",
     "text": [
      "[1, 3, 4] <= рассматриваемый список\n"
     ]
    },
    {
     "data": {
      "text/plain": [
       "[111, 1, 3, 4]"
      ]
     },
     "execution_count": 12,
     "metadata": {},
     "output_type": "execute_result"
    }
   ],
   "source": [
    "print(list_, '<= рассматриваемый список')\n",
    "add = add_node(create, 1, 111)\n",
    "get_values_from_doubly_linked_list(add)"
   ]
  },
  {
   "cell_type": "markdown",
   "id": "f402580b",
   "metadata": {},
   "source": [
    "Функцию разворачивающую список"
   ]
  },
  {
   "cell_type": "code",
   "execution_count": 13,
   "id": "f84b9eca",
   "metadata": {},
   "outputs": [],
   "source": [
    "def inverse_list(head: DLNode) -> DLNode:\n",
    "    current = head\n",
    "    prev_node = None\n",
    "\n",
    "    while current:\n",
    "        next_node = current.next\n",
    "        prev_node = current.prev\n",
    "\n",
    "        current.prev = next_node\n",
    "        current.next = prev_node\n",
    "\n",
    "        current = next_node\n",
    "\n",
    "    return prev_node.prev"
   ]
  },
  {
   "cell_type": "code",
   "execution_count": 15,
   "id": "c00ee2c6",
   "metadata": {},
   "outputs": [
    {
     "name": "stdout",
     "output_type": "stream",
     "text": [
      "[1, 3, 4] <= рассматриваемый список\n",
      "[4, 3, 1]\n"
     ]
    }
   ],
   "source": [
    "print(list_, '<= рассматриваемый список')\n",
    "inverse = inverse_list(create)\n",
    "print((get_values_from_doubly_linked_list(inverse)))"
   ]
  },
  {
   "cell_type": "markdown",
   "id": "33b565e4",
   "metadata": {},
   "source": [
    "[6. Скобочная последовательность](https://leetcode.com/problems/valid-parentheses/)"
   ]
  },
  {
   "cell_type": "code",
   "execution_count": null,
   "id": "72461b81",
   "metadata": {},
   "outputs": [],
   "source": [
    "class Solution:\n",
    "    def isValid(self, s: str) -> bool:\n",
    "        data = {\n",
    "            '(': ')',\n",
    "            '{': '}',\n",
    "            '[': ']'\n",
    "        }\n",
    "        stack = []\n",
    "\n",
    "        for el in s:\n",
    "            if el in data:\n",
    "                stack.append(el)\n",
    "            elif len(stack) == 0 or data[stack.pop()] != el:\n",
    "                return False\n",
    "\n",
    "        if len(stack) != 0:\n",
    "            return False\n",
    "\n",
    "        return True"
   ]
  },
  {
   "cell_type": "markdown",
   "id": "70cf92f3",
   "metadata": {},
   "source": [
    "[7. Maximum Nesting Depth of the Parentheses](https://leetcode.com/problems/maximum-nesting-depth-of-the-parentheses/submissions/929253805/)"
   ]
  },
  {
   "cell_type": "code",
   "execution_count": null,
   "id": "8f5a1768",
   "metadata": {},
   "outputs": [],
   "source": [
    "class Solution:\n",
    "    def maxDepth(self, s: str) -> int:\n",
    "        stack = []\n",
    "        count = 0\n",
    "        max_enter = 0\n",
    "\n",
    "        for el in s:\n",
    "            if el == '(':\n",
    "                count += 1\n",
    "            elif el == ')':\n",
    "                count -= 1\n",
    "            if max_enter < count:\n",
    "                max_enter = count\n",
    "\n",
    "        return max_enter"
   ]
  },
  {
   "cell_type": "markdown",
   "id": "44289084",
   "metadata": {},
   "source": [
    "[8. Min Stack](https://leetcode.com/problems/min-stack/submissions/929267728/)\n",
    "\n",
    "__***Min_Stack O (1)***__"
   ]
  },
  {
   "cell_type": "code",
   "execution_count": null,
   "id": "6a6b7e71",
   "metadata": {},
   "outputs": [],
   "source": [
    "class MinStack:\n",
    "\n",
    "    def __init__(self):\n",
    "        self.min_elements = []\n",
    "        self.elements = []\n",
    "\n",
    "    def push(self, val: int) -> None:\n",
    "        self.elements.append(val)\n",
    "        \n",
    "        if self.min_elements:\n",
    "            self.min_elements.append( min(self.elements[-1], self.min_elements[-1]) )\n",
    "        else:\n",
    "            self.min_elements.append(val)\n",
    "    \n",
    "    def pop(self) -> None:\n",
    "        self.min_elements.pop()\n",
    "        return self.elements.pop()\n",
    "\n",
    "    def top(self) -> int:\n",
    "         return self.elements[-1]\n",
    "        \n",
    "    def getMin(self) -> int:\n",
    "        return self.min_elements[-1]\n",
    "\n",
    "\n",
    "# Your MinStack object will be instantiated and called as such:\n",
    "# obj = MinStack()\n",
    "# obj.push(val)\n",
    "# obj.pop()\n",
    "# param_3 = obj.top()\n",
    "# param_4 = obj.getMin()"
   ]
  },
  {
   "cell_type": "markdown",
   "id": "c458117e",
   "metadata": {},
   "source": [
    "[8. Min Stack](https://leetcode.com/problems/min-stack/submissions/929267728/)\n",
    "\n",
    "__***Min_Stack O (n)***__"
   ]
  },
  {
   "cell_type": "code",
   "execution_count": null,
   "id": "4291019a",
   "metadata": {},
   "outputs": [],
   "source": [
    "class MinStack:\n",
    "\n",
    "    def __init__(self):\n",
    "        self.element = []\n",
    "\n",
    "    def push(self, val: int) -> None:\n",
    "        self.element.append(val)\n",
    "\n",
    "    def pop(self) -> None:\n",
    "        return self.element.pop()\n",
    "\n",
    "    def top(self) -> int:\n",
    "         return self.element[-1]\n",
    "        \n",
    "    def getMin(self) -> int:\n",
    "        return min(self.element)\n",
    "\n",
    "\n",
    "# Your MinStack object will be instantiated and called as such:\n",
    "# obj = MinStack()\n",
    "# obj.push(val)\n",
    "# obj.pop()\n",
    "# param_3 = obj.top()\n",
    "# param_4 = obj.getMin()"
   ]
  },
  {
   "cell_type": "markdown",
   "id": "5701c91a",
   "metadata": {},
   "source": [
    "[9. Remove Outermost Parentheses](https://leetcode.com/problems/remove-outermost-parentheses/)"
   ]
  },
  {
   "cell_type": "code",
   "execution_count": null,
   "id": "89275783",
   "metadata": {},
   "outputs": [],
   "source": [
    "class Solution:\n",
    "    def removeOuterParentheses(self, s: str) -> str:\n",
    "        bracket_level_counter = 0\n",
    "        stack = []\n",
    "\n",
    "        for el in s:\n",
    "            if el == '(':\n",
    "                bracket_level_counter += 1\n",
    "            else:\n",
    "                bracket_level_counter -= 1\n",
    "            if (bracket_level_counter == 1 and el != '(') or bracket_level_counter > 1:\n",
    "                stack.append(el)\n",
    "\n",
    "        return ''.join(stack)"
   ]
  },
  {
   "cell_type": "code",
   "execution_count": null,
   "id": "57ce1637",
   "metadata": {},
   "outputs": [],
   "source": [
    "Sol = Solution()\n",
    "Sol.removeOuterParentheses('(()())(())(()(()))')"
   ]
  },
  {
   "cell_type": "markdown",
   "id": "9e4da2f9",
   "metadata": {},
   "source": [
    "[10. Remove All Adjacent Duplicates In String](https://leetcode.com/problems/remove-all-adjacent-duplicates-in-string/submissions/929278250/)"
   ]
  },
  {
   "cell_type": "code",
   "execution_count": null,
   "id": "31775b0c",
   "metadata": {},
   "outputs": [],
   "source": [
    "class Solution:\n",
    "    def removeDuplicates(self, s: str) -> str:\n",
    "        stack = [s[0]]\n",
    "\n",
    "        for el in range(1, len(s)):\n",
    "            if len(stack) > 0 and s[el] == stack[-1]:\n",
    "                stack.pop()\n",
    "            else:\n",
    "                stack.append(s[el])\n",
    "\n",
    "        return ''.join(stack)"
   ]
  },
  {
   "cell_type": "markdown",
   "id": "320b4291",
   "metadata": {},
   "source": [
    "[11. Make The String Great](https://leetcode.com/problems/make-the-string-great/submissions/929288232/)"
   ]
  },
  {
   "cell_type": "code",
   "execution_count": null,
   "id": "1bc54823",
   "metadata": {},
   "outputs": [],
   "source": [
    "class Solution:\n",
    "    def makeGood(self, s: str) -> str:\n",
    "        stack = []\n",
    "\n",
    "        for el in s:\n",
    "            if len(stack) > 0 and stack[-1] == el.swapcase() :\n",
    "                stack.pop()\n",
    "            else:\n",
    "                stack.append(el)\n",
    "                \n",
    "        return ''.join(stack)"
   ]
  }
 ],
 "metadata": {
  "kernelspec": {
   "display_name": "Python 3 (ipykernel)",
   "language": "python",
   "name": "python3"
  },
  "language_info": {
   "codemirror_mode": {
    "name": "ipython",
    "version": 3
   },
   "file_extension": ".py",
   "mimetype": "text/x-python",
   "name": "python",
   "nbconvert_exporter": "python",
   "pygments_lexer": "ipython3",
   "version": "3.10.9"
  }
 },
 "nbformat": 4,
 "nbformat_minor": 5
}
