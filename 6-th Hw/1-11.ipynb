{
 "cells": [
  {
   "cell_type": "code",
   "execution_count": 5,
   "id": "be616ebc",
   "metadata": {},
   "outputs": [],
   "source": [
    "class DLNode:\n",
    "    def __init__(self, val, prev=None, next=None):\n",
    "        self.val = val\n",
    "        self.next = next\n",
    "        self.prev = prev"
   ]
  },
  {
   "cell_type": "markdown",
   "id": "f4d49e7d",
   "metadata": {},
   "source": [
    "Формирующие из списка `[a_1,a_2,...a_n]` двусвязанный список с сответствующими значениями"
   ]
  },
  {
   "cell_type": "code",
   "execution_count": 6,
   "id": "571ae35a",
   "metadata": {},
   "outputs": [],
   "source": [
    "def create_doubly_linked_list(numbers: list) -> DLNode:\n",
    "    head = DLNode(numbers[0])\n",
    "    current = head\n",
    "\n",
    "    for num in numbers[1:]:\n",
    "        prev = current\n",
    "        current.next = DLNode(num, prev)\n",
    "        current = current.next\n",
    "\n",
    "    return head"
   ]
  },
  {
   "cell_type": "code",
   "execution_count": 52,
   "id": "8bb104e7",
   "metadata": {},
   "outputs": [
    {
     "data": {
      "text/plain": [
       "<__main__.DLNode at 0x12968e4f010>"
      ]
     },
     "execution_count": 52,
     "metadata": {},
     "output_type": "execute_result"
    }
   ],
   "source": [
    "create_doubly_linked_list([1, 3, 4])"
   ]
  },
  {
   "cell_type": "markdown",
   "id": "4f0868e6",
   "metadata": {},
   "source": [
    "Формирующие из двусвязанного списка list c соответстующими значениями `[a_1,a_2,...a_n]`"
   ]
  },
  {
   "cell_type": "code",
   "execution_count": 53,
   "id": "04bf1a6e",
   "metadata": {},
   "outputs": [],
   "source": [
    "def get_values_from_doubly_linked_list(head: DLNode) -> list:\n",
    "    result = []\n",
    "\n",
    "    while head:\n",
    "        result.append(head.val)\n",
    "        head = head.next\n",
    "\n",
    "    return result"
   ]
  },
  {
   "cell_type": "code",
   "execution_count": 54,
   "id": "a51670f8",
   "metadata": {},
   "outputs": [
    {
     "data": {
      "text/plain": [
       "[1, 3, 4]"
      ]
     },
     "execution_count": 54,
     "metadata": {},
     "output_type": "execute_result"
    }
   ],
   "source": [
    "get_values_from_doubly_linked_list(create_doubly_linked_list([1, 3, 4]))"
   ]
  },
  {
   "cell_type": "markdown",
   "id": "76b49bf2",
   "metadata": {},
   "source": [
    "Функцию удаляющую нод по порядковому номеру `(возвращает нод)`"
   ]
  },
  {
   "cell_type": "code",
   "execution_count": 49,
   "id": "df548faa",
   "metadata": {},
   "outputs": [],
   "source": [
    "def remove_node(head: DLNode, nodenum: int) -> DLNode:\n",
    "    count = 1\n",
    "    current = head\n",
    "    if nodenum == 1:\n",
    "        return head.next\n",
    "    while count < nodenum:\n",
    "        print(current.val)\n",
    "        current = current.next\n",
    "        count += 1\n",
    "    \n",
    "    next_ = current.next\n",
    "    current.prev.next = next_\n",
    "    return head"
   ]
  },
  {
   "cell_type": "code",
   "execution_count": 50,
   "id": "ca8bed22",
   "metadata": {},
   "outputs": [
    {
     "name": "stdout",
     "output_type": "stream",
     "text": [
      "[3, 4]\n"
     ]
    }
   ],
   "source": [
    "print(get_values_from_doubly_linked_list((remove_node(create_doubly_linked_list([1, 3, 4]), 1))))"
   ]
  },
  {
   "cell_type": "markdown",
   "id": "465f0193",
   "metadata": {},
   "source": [
    "Функцию добавляющую нод по порядковому номеру"
   ]
  },
  {
   "cell_type": "code",
   "execution_count": 86,
   "id": "6a15076d",
   "metadata": {},
   "outputs": [],
   "source": [
    "def add_node(head: DLNode, nodenum: int, nodeval: int) -> DLNode:\n",
    "    count = 1\n",
    "    current = head\n",
    "    add_val = DLNode(nodeval)\n",
    "    if nodenum == 1:\n",
    "        add_val.next = head\n",
    "        head = add_val\n",
    "        return head\n",
    "    while count < nodenum:\n",
    "        print(current.val)\n",
    "        current = current.next\n",
    "        count += 1\n",
    "        if not current.next:\n",
    "            current.next = add_val\n",
    "            return head\n",
    "    add_val.next = current\n",
    "    current.prev.next = add_val\n",
    "    return head"
   ]
  },
  {
   "cell_type": "code",
   "execution_count": 88,
   "id": "1e57d209",
   "metadata": {},
   "outputs": [
    {
     "name": "stdout",
     "output_type": "stream",
     "text": [
      "[111, 1, 3, 4]\n"
     ]
    }
   ],
   "source": [
    "print(get_values_from_doubly_linked_list((add_node(create_doubly_linked_list([1, 3, 4]), 1, 111))))"
   ]
  },
  {
   "cell_type": "markdown",
   "id": "bcbda733",
   "metadata": {},
   "source": [
    "Функцию разворачивающую список"
   ]
  },
  {
   "cell_type": "code",
   "execution_count": 89,
   "id": "b0ac824a",
   "metadata": {},
   "outputs": [],
   "source": [
    "def inverse_list(head: DLNode) -> DLNode:\n",
    "    current = head\n",
    "    prev_node = None\n",
    "\n",
    "    while current:\n",
    "        next_node = current.next\n",
    "        prev_node = current.prev\n",
    "\n",
    "        current.prev = next_node\n",
    "        current.next = prev_node\n",
    "\n",
    "        current = next_node\n",
    "\n",
    "    return prev_node.prev"
   ]
  },
  {
   "cell_type": "code",
   "execution_count": 91,
   "id": "7bb95381",
   "metadata": {},
   "outputs": [
    {
     "name": "stdout",
     "output_type": "stream",
     "text": [
      "[4, 3, 1]\n"
     ]
    }
   ],
   "source": [
    "print(get_values_from_doubly_linked_list((inverse_list(create_doubly_linked_list([1, 3, 4])))))"
   ]
  },
  {
   "cell_type": "markdown",
   "id": "4bd26766",
   "metadata": {},
   "source": [
    "6. Скобочная последовательность"
   ]
  },
  {
   "cell_type": "code",
   "execution_count": null,
   "id": "3ede3fbc",
   "metadata": {},
   "outputs": [],
   "source": []
  },
  {
   "cell_type": "markdown",
   "id": "6cfba399",
   "metadata": {},
   "source": [
    "7. Maximum Nesting Depth of the Parentheses"
   ]
  },
  {
   "cell_type": "code",
   "execution_count": null,
   "id": "e025c5cf",
   "metadata": {},
   "outputs": [],
   "source": []
  },
  {
   "cell_type": "markdown",
   "id": "c7dae8f2",
   "metadata": {},
   "source": [
    "8. Min Stack"
   ]
  },
  {
   "cell_type": "code",
   "execution_count": null,
   "id": "6b77062b",
   "metadata": {},
   "outputs": [],
   "source": []
  },
  {
   "cell_type": "markdown",
   "id": "2f13e3b7",
   "metadata": {},
   "source": [
    "9. Remove Outermost Parentheses"
   ]
  },
  {
   "cell_type": "code",
   "execution_count": null,
   "id": "0c7091ec",
   "metadata": {},
   "outputs": [],
   "source": []
  },
  {
   "cell_type": "markdown",
   "id": "69eba70f",
   "metadata": {},
   "source": [
    "10. Remove All Adjacent Duplicates In String"
   ]
  },
  {
   "cell_type": "code",
   "execution_count": null,
   "id": "4bf2a79e",
   "metadata": {},
   "outputs": [],
   "source": []
  },
  {
   "cell_type": "markdown",
   "id": "55b41c2e",
   "metadata": {},
   "source": [
    "11. Make The String Great"
   ]
  },
  {
   "cell_type": "code",
   "execution_count": null,
   "id": "80d2fea7",
   "metadata": {},
   "outputs": [],
   "source": []
  }
 ],
 "metadata": {
  "kernelspec": {
   "display_name": "Python 3 (ipykernel)",
   "language": "python",
   "name": "python3"
  },
  "language_info": {
   "codemirror_mode": {
    "name": "ipython",
    "version": 3
   },
   "file_extension": ".py",
   "mimetype": "text/x-python",
   "name": "python",
   "nbconvert_exporter": "python",
   "pygments_lexer": "ipython3",
   "version": "3.10.9"
  }
 },
 "nbformat": 4,
 "nbformat_minor": 5
}
