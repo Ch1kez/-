{
 "cells": [
  {
   "cell_type": "markdown",
   "id": "98def81c",
   "metadata": {},
   "source": [
    "# 3.1"
   ]
  },
  {
   "cell_type": "markdown",
   "id": "4d72b1f6",
   "metadata": {},
   "source": [
    "## A\n",
    "### Есть ошибка"
   ]
  },
  {
   "cell_type": "code",
   "execution_count": null,
   "id": "49077b0e",
   "metadata": {},
   "outputs": [],
   "source": [
    "num = input()\n",
    "a = []\n",
    "for i in range(int(num)):\n",
    "    name = input()\n",
    "    a.append(name)\n",
    "for el in a:\n",
    "    if el not in 'абвАБВ':\n",
    "        v = 'No'\n",
    "        break\n",
    "    else:\n",
    "        v = 'Yes'\n",
    "print(v)"
   ]
  },
  {
   "cell_type": "markdown",
   "id": "340dd1fd",
   "metadata": {},
   "source": [
    "## B"
   ]
  },
  {
   "cell_type": "code",
   "execution_count": null,
   "id": "b390c025",
   "metadata": {},
   "outputs": [],
   "source": [
    "for el in str(input()):\n",
    "    print(el)"
   ]
  },
  {
   "cell_type": "markdown",
   "id": "57ad6f35",
   "metadata": {},
   "source": [
    "## C\n",
    "### Есть ошибка"
   ]
  },
  {
   "cell_type": "code",
   "execution_count": null,
   "id": "85c7b2bc",
   "metadata": {},
   "outputs": [],
   "source": [
    "name = input()\n",
    "s = input()\n",
    "a = []\n",
    "for el in range(int(s)):\n",
    "    sda = input()\n",
    "    if len(sda) >= int(name):\n",
    "        a.append(f'{sda[:int(name)]}...')\n",
    "    else:\n",
    "        a.append(f'{sda}')\n",
    "for el in a:\n",
    "    print(el)"
   ]
  },
  {
   "cell_type": "markdown",
   "id": "6952c29f",
   "metadata": {},
   "source": [
    "## D"
   ]
  },
  {
   "cell_type": "code",
   "execution_count": null,
   "id": "1603e09e",
   "metadata": {},
   "outputs": [],
   "source": [
    "b = []\n",
    "a = '0'\n",
    "while a != '':\n",
    "    # print(a)\n",
    "    a = input()\n",
    "    if a.endswith('@@@'):\n",
    "        continue\n",
    "    elif a.startswith('##'):\n",
    "        b.append(a[2:])\n",
    "    else:\n",
    "        b.append(a)\n",
    "for el in b:\n",
    "    print(el)\n",
    "    "
   ]
  },
  {
   "cell_type": "markdown",
   "id": "f13d6518",
   "metadata": {},
   "source": [
    "## E"
   ]
  },
  {
   "cell_type": "code",
   "execution_count": null,
   "id": "bbdcdaaa",
   "metadata": {},
   "outputs": [],
   "source": [
    "a = input()\n",
    "if a == a[::-1]:\n",
    "    print('YES')\n",
    "else:\n",
    "    print('NO')"
   ]
  },
  {
   "cell_type": "markdown",
   "id": "c7106791",
   "metadata": {},
   "source": [
    "## L"
   ]
  },
  {
   "cell_type": "code",
   "execution_count": null,
   "id": "0c71079e",
   "metadata": {},
   "outputs": [],
   "source": [
    "kashi = ['Манная', 'Гречневая', 'Пшённая', 'Овсяная', 'Рисовая']\n",
    "\n",
    "num = int(input())\n",
    "i = 0\n",
    "counter = 0\n",
    "while counter != num:\n",
    "    print(kashi[i])\n",
    "    i += 1\n",
    "    counter += 1\n",
    "    if i == len(kashi):\n",
    "        i = 0"
   ]
  },
  {
   "cell_type": "markdown",
   "id": "d327b12a",
   "metadata": {},
   "source": [
    "## G"
   ]
  },
  {
   "cell_type": "code",
   "execution_count": null,
   "id": "892bd16a",
   "metadata": {},
   "outputs": [],
   "source": [
    "ch = input().split()\n",
    "print(int(ch[0]) + int(ch[1]))"
   ]
  },
  {
   "cell_type": "markdown",
   "id": "a27a587e",
   "metadata": {},
   "source": [
    "## J"
   ]
  },
  {
   "cell_type": "code",
   "execution_count": null,
   "id": "a70bcb70",
   "metadata": {},
   "outputs": [],
   "source": [
    "# ch = input()\n",
    "data = {}\n",
    "max_find = 0\n",
    "max_ch = ''\n",
    "while True:\n",
    "    ch = input().lower()\n",
    "    if ch == 'финиш':\n",
    "        break\n",
    "    for el in ch:\n",
    "        if el == ' ':\n",
    "            continue\n",
    "        if el in data:\n",
    "            data[el] += 1\n",
    "            if max_find < data[el]:\n",
    "                max_find = data[el]\n",
    "                max_ch = el\n",
    "            elif max_find == data[el]:\n",
    "                if el < max_ch:\n",
    "                    max_ch = el\n",
    "        else:\n",
    "            data[el] = 1\n",
    "print(max_ch)"
   ]
  },
  {
   "cell_type": "markdown",
   "id": "724f9f30",
   "metadata": {},
   "source": [
    "## K"
   ]
  },
  {
   "cell_type": "code",
   "execution_count": null,
   "id": "90688309",
   "metadata": {},
   "outputs": [],
   "source": [
    "num = input()\n",
    "requests = []\n",
    "page = 0\n",
    "while page != int(num):\n",
    "    requests.append(input())\n",
    "    page += 1\n",
    "req = input().lower()\n",
    "for el in requests:\n",
    "    if el.lower().find(req) != -1:\n",
    "        print(el)"
   ]
  },
  {
   "cell_type": "markdown",
   "id": "1dafdcab",
   "metadata": {},
   "source": [
    "## M"
   ]
  },
  {
   "cell_type": "code",
   "execution_count": null,
   "id": "429d5947",
   "metadata": {},
   "outputs": [],
   "source": [
    "kol_vo = input()\n",
    "nums = []\n",
    "el_id = 0\n",
    "while el_id != int(kol_vo):\n",
    "    nums.append(int(input()))\n",
    "    el_id += 1\n",
    "step = int(input())\n",
    "for el in nums:\n",
    "    print(el ** step)"
   ]
  },
  {
   "cell_type": "markdown",
   "id": "17b2c91e",
   "metadata": {},
   "source": [
    "# 3.2"
   ]
  },
  {
   "cell_type": "markdown",
   "id": "dc4567d1",
   "metadata": {},
   "source": [
    "## A"
   ]
  },
  {
   "cell_type": "code",
   "execution_count": null,
   "id": "061c1e06",
   "metadata": {},
   "outputs": [],
   "source": [
    "str_ = ''\n",
    "for el in set(input()):\n",
    "    # print(el, type(el))\n",
    "    str_ += el\n",
    "print(str_)"
   ]
  },
  {
   "cell_type": "markdown",
   "id": "20509ba9",
   "metadata": {},
   "source": [
    "## B"
   ]
  },
  {
   "cell_type": "code",
   "execution_count": null,
   "id": "50626555",
   "metadata": {},
   "outputs": [],
   "source": [
    "str_ = ''\n",
    "s_dif = set(input()).intersection(set(input()))\n",
    "for el in s_dif:\n",
    "    # print(el, type(el))\n",
    "    str_ += el\n",
    "print(str_)\n",
    "# print(s_dif)"
   ]
  },
  {
   "cell_type": "markdown",
   "id": "52e7161e",
   "metadata": {},
   "source": [
    "## C"
   ]
  },
  {
   "cell_type": "code",
   "execution_count": null,
   "id": "919fbf22",
   "metadata": {},
   "outputs": [],
   "source": [
    "e = []\n",
    "for i in range(int(input())):\n",
    "    e += input().split()\n",
    "    # print(e)\n",
    "e = set(e)\n",
    "for el in e:\n",
    "    print(el)"
   ]
  },
  {
   "cell_type": "markdown",
   "id": "633d1fd8",
   "metadata": {},
   "source": [
    "## D"
   ]
  },
  {
   "cell_type": "code",
   "execution_count": null,
   "id": "d1749656",
   "metadata": {},
   "outputs": [],
   "source": [
    "n = input()\n",
    "m = input()\n",
    "k_1 = []\n",
    "k_2 = []\n",
    "for i in range(int(n)):\n",
    "    k_1.append(input())\n",
    "# print(k_1)\n",
    "for i in range(int(m)):\n",
    "    k_2.append(input())\n",
    "# print(k_2)\n",
    "s_intersection = set(k_1).intersection(set(k_2))\n",
    "# print(s_intersection)\n",
    "if len(s_intersection) == 0:\n",
    "    print('Таких нет')\n",
    "else:\n",
    "    print(len(s_intersection))"
   ]
  },
  {
   "cell_type": "markdown",
   "id": "f33d6cb6",
   "metadata": {},
   "source": [
    "## E"
   ]
  },
  {
   "cell_type": "code",
   "execution_count": null,
   "id": "c4aaeb6f",
   "metadata": {},
   "outputs": [],
   "source": [
    "n = input()\n",
    "m = input()\n",
    "k_1 = []\n",
    "k_2 = []\n",
    "for i in range(int(n)):\n",
    "    k_1.append(input())\n",
    "# print(k_1)\n",
    "for i in range(int(m)):\n",
    "    k_2.append(input())\n",
    "# print(k_2)\n",
    "# if len(k_1) < len(k_2):\n",
    "#     k_1, k_2 = k_2, k_1\n",
    "s_intersection = set(k_1).symmetric_difference(set(k_2))\n",
    "# print(s_intersection)\n",
    "if len(s_intersection) == 0:\n",
    "    print('Таких нет')\n",
    "else:\n",
    "    print(len(s_intersection))"
   ]
  },
  {
   "cell_type": "markdown",
   "id": "179cf538",
   "metadata": {},
   "source": [
    "## F"
   ]
  },
  {
   "cell_type": "code",
   "execution_count": null,
   "id": "c850b98a",
   "metadata": {},
   "outputs": [],
   "source": [
    "n = input()\n",
    "m = input()\n",
    "k_1 = []\n",
    "k_2 = []\n",
    "for i in range(int(n)):\n",
    "    k_1.append(input())\n",
    "# print(k_1)\n",
    "for i in range(int(m)):\n",
    "    k_2.append(input())\n",
    "# print(k_2)\n",
    "# if len(k_1) < len(k_2):\n",
    "#     k_1, k_2 = k_2, k_1\n",
    "s_intersection = set(k_1).symmetric_difference(set(k_2))\n",
    "# print(s_intersection)\n",
    "if len(s_intersection) == 0:\n",
    "    print('Таких нет')\n",
    "else:\n",
    "    print(len(s_intersection))"
   ]
  },
  {
   "cell_type": "markdown",
   "id": "425c2246",
   "metadata": {},
   "source": [
    "## G"
   ]
  },
  {
   "cell_type": "code",
   "execution_count": null,
   "id": "f00138c3",
   "metadata": {},
   "outputs": [],
   "source": [
    "morze = {\n",
    "        'A': '.-', 'B': '-...', 'C': '-.-.',\n",
    "        'D': '-..', 'E': '.', 'F': '..-.',\n",
    "        'G': '--.', 'H': '....', 'I': '..',\n",
    "        'J': '.---', 'K': '-.-', 'L': '.-..',\n",
    "        'M': '--', 'N': '-.', 'O': '---',\n",
    "        'P': '.--.', 'Q': '--.-', 'R': '.-.',\n",
    "        'S': '...', 'T': '-', 'U': '..-',\n",
    "        'V': '...-', 'W': '.--', 'X': '-..-',\n",
    "        'Y': '-.--', 'Z': '--..',\n",
    "        '0': '-----', '1': '.----', '2': '..---',\n",
    "        '3': '...--', '4': '....-', '5': '.....',\n",
    "        '6': '-....', '7': '--...', '8': '---..',\n",
    "        '9': '----.'}\n",
    "\n",
    "text = input().split()\n",
    "\n",
    "for txt in text:\n",
    "    print(' '.join(morze[el.upper()] if el != ' ' else '\\n' for el in txt)) "
   ]
  },
  {
   "cell_type": "markdown",
   "id": "8158af8b",
   "metadata": {},
   "source": [
    "## K"
   ]
  },
  {
   "cell_type": "code",
   "execution_count": null,
   "id": "327b5341",
   "metadata": {},
   "outputs": [],
   "source": [
    "text = [input() for item in range(int(input()))]\n",
    "elements = set(text)\n",
    "counter = 0\n",
    "for item in elements:\n",
    "    if text.count(item) != 1:\n",
    "        counter += text.count(item)\n",
    "print(counter)"
   ]
  },
  {
   "cell_type": "markdown",
   "id": "194006e7",
   "metadata": {},
   "source": [
    "## O"
   ]
  },
  {
   "cell_type": "code",
   "execution_count": null,
   "id": "63a0f627",
   "metadata": {},
   "outputs": [],
   "source": [
    "inp = input().split()\n",
    "nums = []\n",
    "\n",
    "for i in range(len(inp)):\n",
    "    inp[i] = bin(int(inp[i]))[2:]\n",
    "\n",
    "for num in inp:\n",
    "    nums.append({\n",
    "        \"digits\": len(num),\n",
    "        \"units\": num.count('1'),\n",
    "        \"zeros\": num.count('0')\n",
    "    })\n",
    "print(nums)"
   ]
  },
  {
   "cell_type": "markdown",
   "id": "c0f0b480",
   "metadata": {},
   "source": [
    "## T (есть ошибка)"
   ]
  },
  {
   "cell_type": "code",
   "execution_count": null,
   "id": "a78374dc",
   "metadata": {},
   "outputs": [],
   "source": [
    "str_arr = input().split('; ')\n",
    "str_res = ''\n",
    "for el_if in range(len(str_arr)):\n",
    "    line = f'{str_arr[el_if]} - '\n",
    "    for array_id in range(len(str_arr)):\n",
    "        if int(str_arr[array_id]) % int(str_arr[el_if]) != 0 and int(str_arr[el_if]) % int(str_arr[array_id]) != 0:\n",
    "            line += f'{str_arr[array_id]}, '\n",
    "    str_res += f'{line[:-2]}\\n'\n",
    "print(str_res[:-2])"
   ]
  },
  {
   "cell_type": "markdown",
   "id": "847bc268",
   "metadata": {},
   "source": [
    "## P"
   ]
  },
  {
   "cell_type": "code",
   "execution_count": null,
   "id": "53610baf",
   "metadata": {},
   "outputs": [],
   "source": [
    "near = set()\n",
    "animals = []\n",
    "while True:\n",
    "    inp = input()\n",
    "    if inp == '':\n",
    "        break\n",
    "    animals.append(inp.split())\n",
    "for animal in animals:\n",
    "    for i in range(len(animal)):\n",
    "        if animal[i] == 'зайка':\n",
    "            if i - 1 != -1:\n",
    "                near.add(animal[i - 1])\n",
    "            if i + 1 != len(animal):\n",
    "                near.add(animal[i + 1])\n",
    "for animal in near:\n",
    "    print(animal)"
   ]
  },
  {
   "cell_type": "markdown",
   "id": "47f00b43",
   "metadata": {},
   "source": [
    "# 3.3\n"
   ]
  },
  {
   "cell_type": "markdown",
   "id": "a93a8284",
   "metadata": {},
   "source": [
    "## A"
   ]
  },
  {
   "cell_type": "code",
   "execution_count": null,
   "id": "c9c67f06",
   "metadata": {},
   "outputs": [],
   "source": [
    "[i ** 2 for i in range(a, b + 1)]"
   ]
  },
  {
   "cell_type": "markdown",
   "id": "edd10db6",
   "metadata": {},
   "source": [
    "## B"
   ]
  },
  {
   "cell_type": "code",
   "execution_count": null,
   "id": "47c2f79a",
   "metadata": {},
   "outputs": [],
   "source": [
    "[[i * j for j in range(1, n + 1)] for i in range(1, n + 1)]"
   ]
  },
  {
   "cell_type": "markdown",
   "id": "f6e2a7b9",
   "metadata": {},
   "source": [
    "## C"
   ]
  },
  {
   "cell_type": "code",
   "execution_count": null,
   "id": "6a7149cb",
   "metadata": {},
   "outputs": [],
   "source": [
    "[len(i) for i in sentence.split()]"
   ]
  },
  {
   "cell_type": "markdown",
   "id": "10bf3314",
   "metadata": {},
   "source": [
    "## D"
   ]
  },
  {
   "cell_type": "code",
   "execution_count": null,
   "id": "9f1a1539",
   "metadata": {},
   "outputs": [],
   "source": [
    "{i for i in numbers if i % 2 != 0}"
   ]
  },
  {
   "cell_type": "markdown",
   "id": "97daf362",
   "metadata": {},
   "source": [
    "## E"
   ]
  },
  {
   "cell_type": "code",
   "execution_count": 8,
   "id": "c5c6339b",
   "metadata": {},
   "outputs": [
    {
     "name": "stdout",
     "output_type": "stream",
     "text": [
      "[1, 4]\n"
     ]
    }
   ],
   "source": [
    "numbers = [1, 2, 3, 4, 5]\n",
    "print([number for number in numbers if (number**(0.5))%1 == 0])\n"
   ]
  },
  {
   "cell_type": "markdown",
   "id": "f13dc5d4",
   "metadata": {},
   "source": [
    "## F"
   ]
  },
  {
   "cell_type": "code",
   "execution_count": null,
   "id": "980c8720",
   "metadata": {},
   "outputs": [],
   "source": [
    "{a: text.lower().count(a) for a in text.lower() if a.isalpha()}"
   ]
  },
  {
   "cell_type": "markdown",
   "id": "6bc38115",
   "metadata": {},
   "source": [
    "## G"
   ]
  },
  {
   "cell_type": "code",
   "execution_count": null,
   "id": "7446e48e",
   "metadata": {},
   "outputs": [],
   "source": [
    "{num: [i for i in range(1, num + 1) if num % i == 0] for num in numbers}"
   ]
  },
  {
   "cell_type": "markdown",
   "id": "03fd6869",
   "metadata": {},
   "source": [
    "## H"
   ]
  },
  {
   "cell_type": "code",
   "execution_count": null,
   "id": "de63f189",
   "metadata": {},
   "outputs": [],
   "source": [
    "''.join(el[0].upper() for el in string.split())     "
   ]
  },
  {
   "cell_type": "markdown",
   "id": "84bdacb4",
   "metadata": {},
   "source": [
    "## I"
   ]
  },
  {
   "cell_type": "code",
   "execution_count": null,
   "id": "e556a8a4",
   "metadata": {},
   "outputs": [],
   "source": [
    "' - '.join(sorted([res_el for res_el in (set(str(num) for num in numbers))], key=lambda x: int(x)))  "
   ]
  },
  {
   "cell_type": "markdown",
   "id": "dadfa8ec",
   "metadata": {},
   "source": [
    "## J"
   ]
  },
  {
   "cell_type": "code",
   "execution_count": null,
   "id": "1476c2de",
   "metadata": {},
   "outputs": [],
   "source": [
    "''.join(ch[0] * ch[1] for ch in rle)"
   ]
  }
 ],
 "metadata": {
  "kernelspec": {
   "display_name": "Python 3 (ipykernel)",
   "language": "python",
   "name": "python3"
  },
  "language_info": {
   "codemirror_mode": {
    "name": "ipython",
    "version": 3
   },
   "file_extension": ".py",
   "mimetype": "text/x-python",
   "name": "python",
   "nbconvert_exporter": "python",
   "pygments_lexer": "ipython3",
   "version": "3.10.9"
  }
 },
 "nbformat": 4,
 "nbformat_minor": 5
}
